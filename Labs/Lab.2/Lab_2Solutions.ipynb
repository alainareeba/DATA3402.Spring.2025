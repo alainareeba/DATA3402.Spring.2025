{
  "cells": [
    {
      "cell_type": "markdown",
      "metadata": {
        "id": "ejmldBYLnXeV"
      },
      "source": [
        "## Lab 2- Tic Tac Toe\n",
        "\n",
        "In this lab your will build a n x n Tic Tac Toe game. As you do the exercises, make sure your solutions work for any size Tic Tac Toe game."
      ]
    },
    {
      "cell_type": "markdown",
      "metadata": {
        "id": "CxwsLvdCnXeX"
      },
      "source": [
        "*Exercise 1:* Write a function that creates an n by n matrix (of list of lists) which will represent the state of a Tie Tac Toe game. Let 0, 1, and 2 represent empty, \"X\", and \"O\", respectively.\n"
      ]
    },
    {
      "cell_type": "code",
      "execution_count": null,
      "metadata": {
        "id": "oi2GCyAYnXeY"
      },
      "outputs": [],
      "source": [
        "# Write your solution here\n",
        "\n",
        "empty = 0\n",
        "player1_X = \"X\"\n",
        "player2_O = \"O\"\n",
        "\n",
        "def tic_tac_toe_board():\n",
        "    user_size = int(input(\"Choose a number:  \"))\n",
        "\n",
        "\n",
        "    if user_size < 3:\n",
        "        raise ValueError(\"Tic-Tac-Toe board size must be at least 3x3.\")\n",
        "\n",
        "\n",
        "    board = [[empty for _ in range(user_size)] for _ in range(user_size)]\n",
        "\n",
        "    for row in board:\n",
        "        print(row)\n"
      ]
    },
    {
      "cell_type": "code",
      "execution_count": null,
      "metadata": {
        "colab": {
          "base_uri": "https://localhost:8080/"
        },
        "id": "y0Mm1kvdnXeZ",
        "outputId": "5e90b0a8-9e10-4310-cefd-1c7528e7bc9f"
      },
      "outputs": [
        {
          "name": "stdout",
          "output_type": "stream",
          "text": [
            "Choose a number:  5\n",
            "[0, 0, 0, 0, 0]\n",
            "[0, 0, 0, 0, 0]\n",
            "[0, 0, 0, 0, 0]\n",
            "[0, 0, 0, 0, 0]\n",
            "[0, 0, 0, 0, 0]\n"
          ]
        }
      ],
      "source": [
        "# Test your solution here\n",
        "tic_tac_toe_board()\n"
      ]
    },
    {
      "cell_type": "markdown",
      "metadata": {
        "id": "pwMdjdivnXea"
      },
      "source": [
        "*Exercise 2:* Write a function that takes 2 integers `n` and `m` as input and draws a `n` by `m` game board. For example the following is a 3x3 board:\n",
        "```\n",
        "   --- --- ---\n",
        "  |   |   |   |\n",
        "   --- --- ---  \n",
        "  |   |   |   |\n",
        "   --- --- ---  \n",
        "  |   |   |   |\n",
        "   --- --- ---\n",
        "   ```"
      ]
    },
    {
      "cell_type": "code",
      "execution_count": null,
      "metadata": {
        "colab": {
          "base_uri": "https://localhost:8080/"
        },
        "id": "u-J4VR3MnXea",
        "outputId": "48c3ea87-2e46-4d85-8506-e98050400e53"
      },
      "outputs": [
        {
          "name": "stdout",
          "output_type": "stream",
          "text": [
            "How long do you want your Tic-Tac-Toe game to be? 3\n",
            "\n",
            "How wide do you want your Tic-Tac-Toe game to be? 3\n",
            "  |   |  \n",
            "-----------\n",
            "  |   |  \n",
            "-----------\n",
            "  |   |  \n",
            "-----------\n"
          ]
        }
      ],
      "source": [
        "# Write your solution here\n",
        "\n",
        "n = int(input(\"How long do you want your Tic-Tac-Toe game to be? \"))\n",
        "m = int(input(\"\\nHow wide do you want your Tic-Tac-Toe game to be? \"))\n",
        "\n",
        "empty = \" \"\n",
        "\n",
        "def create_gameboard(n, m):\n",
        "    gameboard = [[empty for _ in range(n)] for _ in range(m)]\n",
        "    return gameboard\n",
        "\n",
        "def print_gameboard(board):\n",
        "    for row in board:\n",
        "        print(\" | \".join(row))\n",
        "        print(\"-\" * (4 * len(row) - 1))\n",
        "\n",
        "board = create_gameboard(n, m)\n",
        "print_gameboard(board)"
      ]
    },
    {
      "cell_type": "code",
      "execution_count": null,
      "metadata": {
        "colab": {
          "base_uri": "https://localhost:8080/"
        },
        "id": "jrl6P9WfnXeb",
        "outputId": "805df2ae-b8cc-4e36-d1db-da810fd66982"
      },
      "outputs": [
        {
          "name": "stdout",
          "output_type": "stream",
          "text": [
            "  |   |  \n",
            "-----------\n",
            "  |   |  \n",
            "-----------\n",
            "  |   |  \n",
            "-----------\n"
          ]
        }
      ],
      "source": [
        "# Test your solution here\n",
        "create_gameboard(3,3)\n",
        "print_gameboard(board)"
      ]
    },
    {
      "cell_type": "markdown",
      "metadata": {
        "id": "--dxdNiQnXec"
      },
      "source": [
        "*Exercise 3:* Modify exercise 2, so that it takes a matrix of the form from exercise 1 and draws a tic-tac-tie board with \"X\"s and \"O\"s.  "
      ]
    },
    {
      "cell_type": "code",
      "execution_count": null,
      "metadata": {
        "colab": {
          "base_uri": "https://localhost:8080/"
        },
        "id": "eeYUgGawnXec",
        "outputId": "0717766f-c723-4990-b1dc-796474c4746a"
      },
      "outputs": [
        {
          "name": "stdout",
          "output_type": "stream",
          "text": [
            "Choose a number n that will be the dimensions of your gameboard: 3\n"
          ]
        }
      ],
      "source": [
        "# Write you solution here\n",
        "\n",
        "player1=1\n",
        "player2=2\n",
        "empty=0\n",
        "\n",
        "size=int(input(\"Choose a number n that will be the dimensions of your gameboard: \"))\n",
        "\n",
        "def make_alternating_gameboard(size):\n",
        "    gameboard=[[empty]*size for i in range(size)]\n",
        "    for i in range(size):\n",
        "        for j in range(size):\n",
        "            if (i +j)%2==0: # if the sum of the columns are even, player 1 will go\n",
        "                gameboard[i][j]=player1\n",
        "            else: # if the sum is odd, player 2 will go\n",
        "                gameboard[i][j]=player2\n",
        "    return gameboard\n",
        "\n",
        "def make_gameboard(size): # Will use this code to test out actual game\n",
        "    gameboard=[[empty]*size for i in range(size)]\n",
        "    return gameboard\n"
      ]
    },
    {
      "cell_type": "code",
      "execution_count": null,
      "metadata": {
        "colab": {
          "base_uri": "https://localhost:8080/"
        },
        "id": "6o3kIxmunXed",
        "outputId": "71133dc0-afd1-4413-91e4-f2a2c404414a"
      },
      "outputs": [
        {
          "data": {
            "text/plain": [
              "[[1, 2, 1], [2, 1, 2], [1, 2, 1]]"
            ]
          },
          "execution_count": 6,
          "metadata": {},
          "output_type": "execute_result"
        }
      ],
      "source": [
        "gameboard_matrix=make_alternating_gameboard(size)\n",
        "gameboard_matrix"
      ]
    },
    {
      "cell_type": "code",
      "execution_count": null,
      "metadata": {
        "id": "BT8V28NynXed"
      },
      "outputs": [],
      "source": [
        "player1_X=\"X\"\n",
        "player2_O=\"O\"\n",
        "empty_space=\" \"\n",
        "\n",
        "pieces={player1:player1_X, player2:player2_O, empty:empty_space } # created a map so each variable goes with X or O\n",
        "\n",
        "def draw_board(gameboard):\n",
        "    for i in range(size):\n",
        "        for j in range(size):\n",
        "            print(pieces[gameboard[i][j]],end=\" \")\n",
        "        print()\n"
      ]
    },
    {
      "cell_type": "code",
      "execution_count": null,
      "metadata": {
        "colab": {
          "base_uri": "https://localhost:8080/"
        },
        "id": "Mtu_WZd4nXee",
        "outputId": "e74fefee-88cb-49c7-b166-3477ada1975f"
      },
      "outputs": [
        {
          "name": "stdout",
          "output_type": "stream",
          "text": [
            "X O X \n",
            "O X O \n",
            "X O X \n"
          ]
        }
      ],
      "source": [
        "draw_board(gameboard_matrix)"
      ]
    },
    {
      "cell_type": "code",
      "execution_count": null,
      "metadata": {
        "colab": {
          "base_uri": "https://localhost:8080/"
        },
        "id": "Kvo9rHcdnXee",
        "outputId": "9c548f44-1b68-4142-a00d-85e525a58d29"
      },
      "outputs": [
        {
          "name": "stdout",
          "output_type": "stream",
          "text": [
            "Choose a number:  5\n",
            "[0, 0, 0, 0, 0]\n",
            "[0, 0, 0, 0, 0]\n",
            "[0, 0, 0, 0, 0]\n",
            "[0, 0, 0, 0, 0]\n",
            "[0, 0, 0, 0, 0]\n"
          ]
        }
      ],
      "source": [
        "# Test your solution here\n",
        "tic_tac_toe_board()"
      ]
    },
    {
      "cell_type": "markdown",
      "metadata": {
        "id": "n-p4yfatnXee"
      },
      "source": [
        "*Exercise 4:* Write a function that takes a `n` by `n` matrix representing a tic-tac-toe game, and returns -1, 0, 1, or 2 indicating the game is incomplete, the game is a draw, player 1 has won, or player 2 has one, respectively. Here are some example inputs you can use to test your code:"
      ]
    },
    {
      "cell_type": "code",
      "execution_count": null,
      "metadata": {
        "id": "PBfl4AsOnXef"
      },
      "outputs": [],
      "source": [
        "player1=1\n",
        "player2=2\n",
        "empty=0\n",
        "\n",
        "def check_gameboard(gameboard):\n",
        "    player1_wins=False # start off with both as losers\n",
        "    player2_wins=False\n",
        "\n",
        "    # Check rows\n",
        "    for player in [player1, player2]:\n",
        "        if any(all(cell==player for cell in row) for row in gameboard):\n",
        "            if player==player1:\n",
        "                player1_wins=True\n",
        "            else:\n",
        "                player2_wins=True\n",
        "\n",
        "        # Check columns\n",
        "        if any(all(row[j]==player for row in gameboard) for j in range(len(gameboard))):\n",
        "            if player==player1:\n",
        "                player1_wins=True\n",
        "            else:\n",
        "                player2_wins=True\n",
        "\n",
        "        # Check diagonal\n",
        "        if all(gameboard[i][i]==player for i in range(len(gameboard))):\n",
        "            if player==player1:\n",
        "                player1_wins=True\n",
        "            else:\n",
        "                player2_wins=True\n",
        "\n",
        "        # Check other diagonal\n",
        "        if all(gameboard[i][len(gameboard) - 1 - i] == player for i in range(len(gameboard))):\n",
        "            if player==player1:\n",
        "                player1_wins=True\n",
        "            else:\n",
        "                player2_wins=True\n",
        "\n",
        "    # Check game status\n",
        "    if player1_wins and player2_wins:\n",
        "        print (\"Tie!\")\n",
        "    elif player1_wins:\n",
        "        print(\"Player 1 wins!\")\n",
        "    elif player2_wins:\n",
        "        print(\"Player 2 wins! \")\n",
        "    else:\n",
        "        if all(cell==player1 or cell==player2 for row in gameboard for cell in row):\n",
        "            print(\"Crash\")\n",
        "        else:\n",
        "            return None\n",
        "\n",
        "def game_won(gameboard):\n",
        "    result=check_gameboard(gameboard)\n",
        "    return result is not None"
      ]
    },
    {
      "cell_type": "code",
      "execution_count": null,
      "metadata": {
        "colab": {
          "base_uri": "https://localhost:8080/"
        },
        "id": "zXcHwfgxnXef",
        "outputId": "3ea7d57a-111c-4122-af18-114e5f522e51"
      },
      "outputs": [
        {
          "name": "stdout",
          "output_type": "stream",
          "text": [
            "X O X \n",
            "O X O \n",
            "X O X \n",
            "Player 1 wins!\n"
          ]
        }
      ],
      "source": [
        "# Test your solution here\n",
        "draw_board(gameboard_matrix)\n",
        "check_gameboard(gameboard_matrix)"
      ]
    },
    {
      "cell_type": "code",
      "execution_count": null,
      "metadata": {
        "id": "yW3q1BxZnXef"
      },
      "outputs": [],
      "source": [
        "winner_is_2 = [[2, 2, 0],\n",
        "\t[2, 1, 0],\n",
        "\t[2, 1, 1]]\n",
        "\n",
        "winner_is_1 = [[1, 2, 0],\n",
        "\t[2, 1, 0],\n",
        "\t[2, 1, 1]]\n",
        "\n",
        "winner_is_also_1 = [[0, 1, 0],\n",
        "\t[2, 1, 0],\n",
        "\t[2, 1, 1]]\n",
        "\n",
        "no_winner = [[1, 2, 0],\n",
        "\t[2, 1, 0],\n",
        "\t[2, 1, 2]]\n",
        "\n",
        "also_no_winner = [[1, 2, 0],\n",
        "\t[2, 1, 0],\n",
        "\t[2, 1, 0]]"
      ]
    },
    {
      "cell_type": "markdown",
      "metadata": {
        "id": "4i4zSNZJnXeg"
      },
      "source": [
        "*Exercise 5:* Write a function that takes a game board, player number, and `(x,y)` coordinates and places \"X\" or \"O\" in the correct location of the game board. Make sure that you only allow filling previously empty locations. Return `True` or `False` to indicate successful placement of \"X\" or \"O\"."
      ]
    },
    {
      "cell_type": "code",
      "execution_count": null,
      "metadata": {
        "id": "axw9OVzQnXeg"
      },
      "outputs": [],
      "source": [
        "# Write you solution here\n",
        "def place_symbol(gameboard, player, x, y):\n",
        "\n",
        "    # Check if the coordinates are in the board\n",
        "    if x<0 or x>=len(gameboard) or y<0 or y>=len(gameboard[0]):\n",
        "        print(\"Location is off the board. Please place somewhere else.\\n\")\n",
        "        return False\n",
        "\n",
        "    # Check if specified location is empty\n",
        "    if gameboard[x][y]==0:\n",
        "        # Place \"X\" for player 1 and \"O\" for player 2\n",
        "        symbol=1 if player==player1 else 2\n",
        "        gameboard[x][y]=symbol\n",
        "        return True\n",
        "    else:\n",
        "        print(\"Location is already filled. Pleace place somewhere else.\\n\")\n",
        "        return False"
      ]
    },
    {
      "cell_type": "code",
      "execution_count": null,
      "metadata": {
        "colab": {
          "base_uri": "https://localhost:8080/"
        },
        "id": "uGO8Mm1wnXeg",
        "outputId": "ca515cd8-45cb-4c99-8bd0-a1a1b5fa56f3"
      },
      "outputs": [
        {
          "name": "stdout",
          "output_type": "stream",
          "text": [
            "      \n",
            "      \n",
            "      \n",
            "      \n",
            "O     \n",
            "      \n"
          ]
        }
      ],
      "source": [
        "gameboard=make_gameboard(3)\n",
        "draw_board(gameboard)\n",
        "player1=1\n",
        "player2=2\n",
        "place_symbol(gameboard, player2, 1,0) # here i assigned x and y values\n",
        "draw_board(gameboard)\n",
        "check_gameboard(gameboard)"
      ]
    },
    {
      "cell_type": "markdown",
      "metadata": {
        "id": "sSDypnd_nXeg"
      },
      "source": [
        "*Exercise 6:* Modify Exercise 3 to show column and row labels so that players can specify location using \"A2\" or \"C1\"."
      ]
    },
    {
      "cell_type": "code",
      "execution_count": null,
      "metadata": {
        "id": "M3PoZxRhnXeh"
      },
      "outputs": [],
      "source": [
        "# Write you solution here\n",
        "row_names=list(\"ABCDEFGH\")\n",
        "row_map=dict(zip(row_names,range(size))) # zip the rows and range so they correspond like the lecture\n",
        "\n",
        "column_names=list(map(str,range(1,size+1)))\n",
        "column_map=dict(zip(column_names,range(size)))\n",
        "\n",
        "def draw_board(board):\n",
        "    size=len(board)\n",
        "    row_names=list(\"ABCDEFGH\")\n",
        "    column_names=list(map(str, range(1, size+1)))\n",
        "    print(\" \")\n",
        "\n",
        "    print(\" \", end=\" \")\n",
        "    for j in range(size):\n",
        "        print(column_names[j], end=\" \")\n",
        "    print()\n",
        "\n",
        "    for i in range(size):\n",
        "        print(row_names[i], end=\" \")\n",
        "        for j in range(size):\n",
        "            print(pieces[board[i][j]], end=\" \")\n",
        "        print()"
      ]
    },
    {
      "cell_type": "code",
      "execution_count": null,
      "metadata": {
        "colab": {
          "base_uri": "https://localhost:8080/"
        },
        "id": "pCozTq0xnXeh",
        "outputId": "f9129d84-1755-4f69-fdd2-0fea72db4eaa"
      },
      "outputs": [
        {
          "name": "stdout",
          "output_type": "stream",
          "text": [
            " \n",
            "  1 2 3 \n",
            "A X O X \n",
            "B O X O \n",
            "C X O X \n"
          ]
        }
      ],
      "source": [
        "# Test your solution here\n",
        "draw_board(gameboard_matrix)\n",
        "\n",
        "# not showing the status of who's winning or losing?"
      ]
    },
    {
      "cell_type": "markdown",
      "metadata": {
        "id": "GklfG8iDnXeh"
      },
      "source": [
        "*Exercise 7:* Write a function that takes a board, player number, and location specified as in exercise 6 and then calls exercise 5 to correctly modify the board.  "
      ]
    },
    {
      "cell_type": "code",
      "execution_count": null,
      "metadata": {
        "id": "_95SzqFknXeh"
      },
      "outputs": [],
      "source": [
        "# Write you solution here\n",
        "\n",
        "def player_moves(gameboard, player, location):\n",
        "    size=len(gameboard)\n",
        "    row_names=list(\"ABCDEFGH\")[:size]\n",
        "    column_names=list(map(str, range(1, size + 1)))\n",
        "    row_map=dict(zip(row_names, range(size)))\n",
        "    column_map=dict(zip(column_names, range(size)))\n",
        "\n",
        "    while True:\n",
        "        location=input(\"Put your number and letter as your position: (e.g., A1): \").upper()\n",
        "\n",
        "        if len(location)!=2 or location[0] not in row_map or location[1] not in column_map: #\n",
        "            print(\"Invalid input. Please enter a valid location: \")\n",
        "            continue\n",
        "        x=row_map[location[0]]\n",
        "        y=column_map[location[1]]\n",
        "\n",
        "        result=place_symbol(gameboard, player, x, y)\n",
        "\n",
        "        if result:\n",
        "            break\n",
        "        else:\n",
        "            print(\"That location is taken. Please choose another location: \")"
      ]
    },
    {
      "cell_type": "code",
      "execution_count": null,
      "metadata": {
        "colab": {
          "base_uri": "https://localhost:8080/"
        },
        "id": "hxU5MypvnXei",
        "outputId": "c733d712-2ba0-4adb-fdb3-4c15c1db1997"
      },
      "outputs": [
        {
          "name": "stdout",
          "output_type": "stream",
          "text": [
            " \n",
            "  1 2 3 \n",
            "A       \n",
            "B       \n",
            "C       \n",
            "Put your number and letter as your position: (e.g., A1): a1\n",
            "Put your number and letter as your position: (e.g., A1): a2\n",
            " \n",
            "  1 2 3 \n",
            "A X O   \n",
            "B       \n",
            "C       \n"
          ]
        }
      ],
      "source": [
        "# Test your solution here\n",
        "gameboard=make_gameboard(3)\n",
        "draw_board(gameboard)\n",
        "\n",
        "player_moves(gameboard, player1, \"A2\")\n",
        "player_moves(gameboard, player2, \"A1\")\n",
        "draw_board(gameboard)\n",
        "check_gameboard(gameboard)"
      ]
    },
    {
      "cell_type": "markdown",
      "metadata": {
        "id": "RmbF-BkbnXei"
      },
      "source": [
        "*Exercise 8:* Write a function is called with a board and player number, takes input from the player using python's `input`, and modifies the board using your function from exercise 7. Note that you should keep asking for input until you have gotten a valid input that results in a valid move."
      ]
    },
    {
      "cell_type": "code",
      "execution_count": null,
      "metadata": {
        "id": "-vnLgN1anXei"
      },
      "outputs": [],
      "source": [
        "# Write you solution here\n",
        "def player_moves(gameboard, player):\n",
        "    size=len(gameboard)\n",
        "    row_names=list(\"ABCDEFGH\")[:size]\n",
        "    column_names=list(map(str, range(1, size + 1)))\n",
        "    row_map=dict(zip(row_names, range(size)))\n",
        "    column_map=dict(zip(column_names, range(size)))\n",
        "\n",
        "    while True:\n",
        "        location=input(\"Put your number and your letter as your position (e.g., A1): \").upper()\n",
        "\n",
        "        # Validate if input is real location on matrix\n",
        "        if len(location)!=2 or location[0] not in row_map or location[1] not in column_map:\n",
        "            print(\"Invalid input. Please enter a valid location: \")\n",
        "            continue\n",
        "\n",
        "        x=row_map[location[0]]\n",
        "        y=column_map[location[1]]\n",
        "\n",
        "        result=place_symbol(gameboard, player, x, y) # same function\n",
        "\n",
        "        if result:\n",
        "            break\n",
        "        else:\n",
        "            print(\"Location is filled. Please choose another location: \")"
      ]
    },
    {
      "cell_type": "code",
      "execution_count": null,
      "metadata": {
        "colab": {
          "base_uri": "https://localhost:8080/"
        },
        "id": "1mit3XuSnXei",
        "outputId": "9bce833c-5ceb-4145-c9df-c69497256835"
      },
      "outputs": [
        {
          "name": "stdout",
          "output_type": "stream",
          "text": [
            " \n",
            "  1 2 3 \n",
            "A       \n",
            "B       \n",
            "C       \n",
            "Put your number and your letter as your position (e.g., A1): a1\n",
            "Put your number and your letter as your position (e.g., A1): a2\n",
            " \n",
            "  1 2 3 \n",
            "A X O   \n",
            "B       \n",
            "C       \n"
          ]
        }
      ],
      "source": [
        "# Test your solution here\n",
        "gameboard=make_gameboard(3)\n",
        "draw_board(gameboard)\n",
        "\n",
        "player_moves(gameboard, player1)\n",
        "player_moves(gameboard, player2)\n",
        "draw_board(gameboard)\n",
        "check_gameboard(gameboard)"
      ]
    },
    {
      "cell_type": "markdown",
      "metadata": {
        "id": "H9lob9qsnXej"
      },
      "source": [
        "*Exercise 9:* Use all of the previous exercises to implement a full tic-tac-toe game, where an appropriate board is drawn, 2 players are repeatedly asked for a location coordinates of where they wish to place a mark, and the game status is checked until a player wins or a draw occurs."
      ]
    },
    {
      "cell_type": "code",
      "execution_count": null,
      "metadata": {
        "id": "xNwKZQNjnXej"
      },
      "outputs": [],
      "source": [
        "def tic_tac_toe():\n",
        "\n",
        "    # Make a game board\n",
        "    n = int(input(\"Enter a number n that will be the size of your gameboard: \"))\n",
        "    board = make_gameboard(n)\n",
        "\n",
        "\n",
        "    player = player1\n",
        "    player1_wins = False  # start off with two losers\n",
        "    player2_wins = False\n",
        "\n",
        "    while not game_won(board):\n",
        "        # Draw the board\n",
        "        draw_board(board)\n",
        "        print(\" \")\n",
        "\n",
        "        # Make a move\n",
        "        print(\"Player\", player, \",\")\n",
        "        player_moves(board, player)\n",
        "\n",
        "        # Switch players\n",
        "        if player == player1:\n",
        "            player = player2\n",
        "        else:\n",
        "            player = player1\n",
        "\n",
        "        if all(board[i][len(board) - 1 - i] == player for i in range(len(board))):\n",
        "            if player == player1:\n",
        "                player1_wins = True\n",
        "            else:\n",
        "                player2_wins = True\n",
        "\n",
        "        if game_won(board):\n",
        "          result=check_gameboard(board)\n",
        "          break\n",
        "\n",
        "\n",
        "    draw_board(board)\n",
        "    print(\"\\n\")\n",
        "    print(check_gameboard(board))\n"
      ]
    },
    {
      "cell_type": "code",
      "execution_count": null,
      "metadata": {
        "colab": {
          "background_save": true,
          "base_uri": "https://localhost:8080/"
        },
        "id": "02pdmkPZnXej",
        "outputId": "8d6b3749-0159-444b-ab7c-3a40901031ea"
      },
      "outputs": [
        {
          "name": "stdout",
          "output_type": "stream",
          "text": [
            " \n",
            "  1 2 3 \n",
            "A       \n",
            "B       \n",
            "C       \n",
            " \n",
            "Player 1 ,\n",
            " \n",
            "  1 2 3 \n",
            "A X     \n",
            "B       \n",
            "C       \n",
            " \n",
            "Player 2 ,\n",
            " \n",
            "  1 2 3 \n",
            "A X O   \n",
            "B       \n",
            "C       \n",
            " \n",
            "Player 1 ,\n",
            " \n",
            "  1 2 3 \n",
            "A X O X \n",
            "B       \n",
            "C       \n",
            " \n",
            "Player 2 ,\n",
            " \n",
            "  1 2 3 \n",
            "A X O X \n",
            "B O     \n",
            "C       \n",
            " \n",
            "Player 1 ,\n",
            " \n",
            "  1 2 3 \n",
            "A X O X \n",
            "B O X   \n",
            "C       \n",
            " \n",
            "Player 2 ,\n",
            " \n",
            "  1 2 3 \n",
            "A X O X \n",
            "B O X O \n",
            "C       \n",
            " \n",
            "Player 1 ,\n",
            "Player 1 wins!\n",
            "Player 1 wins!\n",
            " \n",
            "  1 2 3 \n",
            "A X O X \n",
            "B O X O \n",
            "C X     \n",
            " \n",
            "Player 2 ,\n"
          ]
        }
      ],
      "source": [
        "# Test your solution here\n",
        "tic_tac_toe()"
      ]
    },
    {
      "cell_type": "markdown",
      "metadata": {
        "id": "loiuTua4nXej"
      },
      "source": [
        "*Exercise 10:* Test that your game works for 5x5 Tic Tac Toe.  "
      ]
    },
    {
      "cell_type": "code",
      "execution_count": null,
      "metadata": {
        "id": "7k9rlXIdnXej"
      },
      "outputs": [],
      "source": [
        "def tic_tac_toe():\n",
        "\n",
        "\n",
        "    # Make a game board\n",
        "    n=int(input(\"Enter a number n that will be the size of your n x n gameboard: \"))\n",
        "    board=make_gameboard(n)\n",
        "\n",
        "    # Start with player 1\n",
        "    player=player1\n",
        "\n",
        "    while not game_won(board):\n",
        "        # Draw the board\n",
        "        draw_board(board)\n",
        "        print(\" \")\n",
        "\n",
        "        # Make a move\n",
        "        print(\"Player\",player,\",\")\n",
        "        player_moves(board,player)\n",
        "\n",
        "        # Switch players\n",
        "        if player==player1:\n",
        "            player=player2\n",
        "        else:\n",
        "            player=player1\n",
        "\n",
        "\n",
        "    draw_board(board)\n",
        "    print(\"\\n\")\n",
        "    print(check_gameboard(board))\n",
        "\n",
        "\n"
      ]
    },
    {
      "cell_type": "code",
      "execution_count": null,
      "metadata": {
        "colab": {
          "base_uri": "https://localhost:8080/",
          "height": 1000
        },
        "id": "_Gr6xeJHnXek",
        "outputId": "9cda34d9-529c-4133-e028-561a7c1c793c"
      },
      "outputs": [
        {
          "name": "stdout",
          "output_type": "stream",
          "text": [
            "Enter a number n that will be the size of your n x n gameboard: 5\n",
            " \n",
            "  1 2 3 4 5 \n",
            "A           \n",
            "B           \n",
            "C           \n",
            "D           \n",
            "E           \n",
            " \n",
            "Player 1 ,\n",
            "Put your number and your letter as your position (e.g., A1): a1\n",
            " \n",
            "  1 2 3 4 5 \n",
            "A X         \n",
            "B           \n",
            "C           \n",
            "D           \n",
            "E           \n",
            " \n",
            "Player 2 ,\n",
            "Put your number and your letter as your position (e.g., A1): a2\n",
            " \n",
            "  1 2 3 4 5 \n",
            "A X O       \n",
            "B           \n",
            "C           \n",
            "D           \n",
            "E           \n",
            " \n",
            "Player 1 ,\n",
            "Put your number and your letter as your position (e.g., A1): a3\n",
            " \n",
            "  1 2 3 4 5 \n",
            "A X O X     \n",
            "B           \n",
            "C           \n",
            "D           \n",
            "E           \n",
            " \n",
            "Player 2 ,\n",
            "Put your number and your letter as your position (e.g., A1): a4\n",
            " \n",
            "  1 2 3 4 5 \n",
            "A X O X O   \n",
            "B           \n",
            "C           \n",
            "D           \n",
            "E           \n",
            " \n",
            "Player 1 ,\n",
            "Put your number and your letter as your position (e.g., A1): a5\n",
            " \n",
            "  1 2 3 4 5 \n",
            "A X O X O X \n",
            "B           \n",
            "C           \n",
            "D           \n",
            "E           \n",
            " \n",
            "Player 2 ,\n",
            "Put your number and your letter as your position (e.g., A1): b1\n",
            " \n",
            "  1 2 3 4 5 \n",
            "A X O X O X \n",
            "B O         \n",
            "C           \n",
            "D           \n",
            "E           \n",
            " \n",
            "Player 1 ,\n",
            "Put your number and your letter as your position (e.g., A1): b2\n",
            " \n",
            "  1 2 3 4 5 \n",
            "A X O X O X \n",
            "B O X       \n",
            "C           \n",
            "D           \n",
            "E           \n",
            " \n",
            "Player 2 ,\n",
            "Put your number and your letter as your position (e.g., A1): b3\n",
            " \n",
            "  1 2 3 4 5 \n",
            "A X O X O X \n",
            "B O X O     \n",
            "C           \n",
            "D           \n",
            "E           \n",
            " \n",
            "Player 1 ,\n",
            "Put your number and your letter as your position (e.g., A1): 4\n",
            "Invalid input. Please enter a valid location: \n",
            "Put your number and your letter as your position (e.g., A1): b4\n",
            " \n",
            "  1 2 3 4 5 \n",
            "A X O X O X \n",
            "B O X O X   \n",
            "C           \n",
            "D           \n",
            "E           \n",
            " \n",
            "Player 2 ,\n",
            "Put your number and your letter as your position (e.g., A1): b5\n",
            " \n",
            "  1 2 3 4 5 \n",
            "A X O X O X \n",
            "B O X O X O \n",
            "C           \n",
            "D           \n",
            "E           \n",
            " \n",
            "Player 1 ,\n",
            "Put your number and your letter as your position (e.g., A1): c1\n",
            " \n",
            "  1 2 3 4 5 \n",
            "A X O X O X \n",
            "B O X O X O \n",
            "C X         \n",
            "D           \n",
            "E           \n",
            " \n",
            "Player 2 ,\n",
            "Put your number and your letter as your position (e.g., A1): c2\n",
            " \n",
            "  1 2 3 4 5 \n",
            "A X O X O X \n",
            "B O X O X O \n",
            "C X O       \n",
            "D           \n",
            "E           \n",
            " \n",
            "Player 1 ,\n",
            "Put your number and your letter as your position (e.g., A1): c3\n",
            " \n",
            "  1 2 3 4 5 \n",
            "A X O X O X \n",
            "B O X O X O \n",
            "C X O X     \n",
            "D           \n",
            "E           \n",
            " \n",
            "Player 2 ,\n",
            "Put your number and your letter as your position (e.g., A1): c4\n",
            " \n",
            "  1 2 3 4 5 \n",
            "A X O X O X \n",
            "B O X O X O \n",
            "C X O X O   \n",
            "D           \n",
            "E           \n",
            " \n",
            "Player 1 ,\n",
            "Put your number and your letter as your position (e.g., A1): c5\n",
            " \n",
            "  1 2 3 4 5 \n",
            "A X O X O X \n",
            "B O X O X O \n",
            "C X O X O X \n",
            "D           \n",
            "E           \n",
            " \n",
            "Player 2 ,\n",
            "Put your number and your letter as your position (e.g., A1): d1\n",
            " \n",
            "  1 2 3 4 5 \n",
            "A X O X O X \n",
            "B O X O X O \n",
            "C X O X O X \n",
            "D O         \n",
            "E           \n",
            " \n",
            "Player 1 ,\n",
            "Put your number and your letter as your position (e.g., A1): d2\n",
            " \n",
            "  1 2 3 4 5 \n",
            "A X O X O X \n",
            "B O X O X O \n",
            "C X O X O X \n",
            "D O X       \n",
            "E           \n",
            " \n",
            "Player 2 ,\n",
            "Put your number and your letter as your position (e.g., A1): c3\n",
            "Location is already filled. Pleace place somewhere else.\n",
            "\n",
            "Location is filled. Please choose another location: \n",
            "Put your number and your letter as your position (e.g., A1): d3\n",
            " \n",
            "  1 2 3 4 5 \n",
            "A X O X O X \n",
            "B O X O X O \n",
            "C X O X O X \n",
            "D O X O     \n",
            "E           \n",
            " \n",
            "Player 1 ,\n",
            "Put your number and your letter as your position (e.g., A1): d4\n",
            " \n",
            "  1 2 3 4 5 \n",
            "A X O X O X \n",
            "B O X O X O \n",
            "C X O X O X \n",
            "D O X O X   \n",
            "E           \n",
            " \n",
            "Player 2 ,\n",
            "Put your number and your letter as your position (e.g., A1): d5\n",
            " \n",
            "  1 2 3 4 5 \n",
            "A X O X O X \n",
            "B O X O X O \n",
            "C X O X O X \n",
            "D O X O X O \n",
            "E           \n",
            " \n",
            "Player 1 ,\n",
            "Put your number and your letter as your position (e.g., A1): e1\n",
            "Player 1 wins!\n",
            " \n",
            "  1 2 3 4 5 \n",
            "A X O X O X \n",
            "B O X O X O \n",
            "C X O X O X \n",
            "D O X O X O \n",
            "E X         \n",
            " \n",
            "Player 2 ,\n",
            "Put your number and your letter as your position (e.g., A1): e2\n",
            "Player 1 wins!\n",
            " \n",
            "  1 2 3 4 5 \n",
            "A X O X O X \n",
            "B O X O X O \n",
            "C X O X O X \n",
            "D O X O X O \n",
            "E X O       \n",
            " \n",
            "Player 1 ,\n",
            "Put your number and your letter as your position (e.g., A1): e3\n",
            "Player 1 wins!\n",
            " \n",
            "  1 2 3 4 5 \n",
            "A X O X O X \n",
            "B O X O X O \n",
            "C X O X O X \n",
            "D O X O X O \n",
            "E X O X     \n",
            " \n",
            "Player 2 ,\n",
            "Put your number and your letter as your position (e.g., A1): e4\n",
            "Player 1 wins!\n",
            " \n",
            "  1 2 3 4 5 \n",
            "A X O X O X \n",
            "B O X O X O \n",
            "C X O X O X \n",
            "D O X O X O \n",
            "E X O X O   \n",
            " \n",
            "Player 1 ,\n",
            "Put your number and your letter as your position (e.g., A1): e5\n",
            "Player 1 wins!\n",
            " \n",
            "  1 2 3 4 5 \n",
            "A X O X O X \n",
            "B O X O X O \n",
            "C X O X O X \n",
            "D O X O X O \n",
            "E X O X O X \n",
            " \n",
            "Player 2 ,\n"
          ]
        },
        {
          "ename": "KeyboardInterrupt",
          "evalue": "Interrupted by user",
          "output_type": "error",
          "traceback": [
            "\u001b[0;31m---------------------------------------------------------------------------\u001b[0m",
            "\u001b[0;31mKeyboardInterrupt\u001b[0m                         Traceback (most recent call last)",
            "\u001b[0;32m<ipython-input-35-d5912735471a>\u001b[0m in \u001b[0;36m<cell line: 0>\u001b[0;34m()\u001b[0m\n\u001b[0;32m----> 1\u001b[0;31m \u001b[0mtic_tac_toe\u001b[0m\u001b[0;34m(\u001b[0m\u001b[0;34m)\u001b[0m\u001b[0;34m\u001b[0m\u001b[0;34m\u001b[0m\u001b[0m\n\u001b[0m",
            "\u001b[0;32m<ipython-input-34-1ba123564881>\u001b[0m in \u001b[0;36mtic_tac_toe\u001b[0;34m()\u001b[0m\n\u001b[1;32m     16\u001b[0m         \u001b[0;31m# Make a move\u001b[0m\u001b[0;34m\u001b[0m\u001b[0;34m\u001b[0m\u001b[0m\n\u001b[1;32m     17\u001b[0m         \u001b[0mprint\u001b[0m\u001b[0;34m(\u001b[0m\u001b[0;34m\"Player\"\u001b[0m\u001b[0;34m,\u001b[0m\u001b[0mplayer\u001b[0m\u001b[0;34m,\u001b[0m\u001b[0;34m\",\"\u001b[0m\u001b[0;34m)\u001b[0m\u001b[0;34m\u001b[0m\u001b[0;34m\u001b[0m\u001b[0m\n\u001b[0;32m---> 18\u001b[0;31m         \u001b[0mplayer_moves\u001b[0m\u001b[0;34m(\u001b[0m\u001b[0mprototype_board\u001b[0m\u001b[0;34m,\u001b[0m\u001b[0mplayer\u001b[0m\u001b[0;34m)\u001b[0m\u001b[0;34m\u001b[0m\u001b[0;34m\u001b[0m\u001b[0m\n\u001b[0m\u001b[1;32m     19\u001b[0m \u001b[0;34m\u001b[0m\u001b[0m\n\u001b[1;32m     20\u001b[0m         \u001b[0;31m# Switch players\u001b[0m\u001b[0;34m\u001b[0m\u001b[0;34m\u001b[0m\u001b[0m\n",
            "\u001b[0;32m<ipython-input-28-075e5987e968>\u001b[0m in \u001b[0;36mplayer_moves\u001b[0;34m(gameboard, player)\u001b[0m\n\u001b[1;32m      8\u001b[0m \u001b[0;34m\u001b[0m\u001b[0m\n\u001b[1;32m      9\u001b[0m     \u001b[0;32mwhile\u001b[0m \u001b[0;32mTrue\u001b[0m\u001b[0;34m:\u001b[0m\u001b[0;34m\u001b[0m\u001b[0;34m\u001b[0m\u001b[0m\n\u001b[0;32m---> 10\u001b[0;31m         \u001b[0mlocation\u001b[0m\u001b[0;34m=\u001b[0m\u001b[0minput\u001b[0m\u001b[0;34m(\u001b[0m\u001b[0;34m\"Put your number and your letter as your position (e.g., A1): \"\u001b[0m\u001b[0;34m)\u001b[0m\u001b[0;34m.\u001b[0m\u001b[0mupper\u001b[0m\u001b[0;34m(\u001b[0m\u001b[0;34m)\u001b[0m\u001b[0;34m\u001b[0m\u001b[0;34m\u001b[0m\u001b[0m\n\u001b[0m\u001b[1;32m     11\u001b[0m \u001b[0;34m\u001b[0m\u001b[0m\n\u001b[1;32m     12\u001b[0m         \u001b[0;31m# Validate if input is real location on matrix\u001b[0m\u001b[0;34m\u001b[0m\u001b[0;34m\u001b[0m\u001b[0m\n",
            "\u001b[0;32m/usr/local/lib/python3.11/dist-packages/ipykernel/kernelbase.py\u001b[0m in \u001b[0;36mraw_input\u001b[0;34m(self, prompt)\u001b[0m\n\u001b[1;32m    849\u001b[0m                 \u001b[0;34m\"raw_input was called, but this frontend does not support input requests.\"\u001b[0m\u001b[0;34m\u001b[0m\u001b[0;34m\u001b[0m\u001b[0m\n\u001b[1;32m    850\u001b[0m             )\n\u001b[0;32m--> 851\u001b[0;31m         return self._input_request(str(prompt),\n\u001b[0m\u001b[1;32m    852\u001b[0m             \u001b[0mself\u001b[0m\u001b[0;34m.\u001b[0m\u001b[0m_parent_ident\u001b[0m\u001b[0;34m,\u001b[0m\u001b[0;34m\u001b[0m\u001b[0;34m\u001b[0m\u001b[0m\n\u001b[1;32m    853\u001b[0m             \u001b[0mself\u001b[0m\u001b[0;34m.\u001b[0m\u001b[0m_parent_header\u001b[0m\u001b[0;34m,\u001b[0m\u001b[0;34m\u001b[0m\u001b[0;34m\u001b[0m\u001b[0m\n",
            "\u001b[0;32m/usr/local/lib/python3.11/dist-packages/ipykernel/kernelbase.py\u001b[0m in \u001b[0;36m_input_request\u001b[0;34m(self, prompt, ident, parent, password)\u001b[0m\n\u001b[1;32m    893\u001b[0m             \u001b[0;32mexcept\u001b[0m \u001b[0mKeyboardInterrupt\u001b[0m\u001b[0;34m:\u001b[0m\u001b[0;34m\u001b[0m\u001b[0;34m\u001b[0m\u001b[0m\n\u001b[1;32m    894\u001b[0m                 \u001b[0;31m# re-raise KeyboardInterrupt, to truncate traceback\u001b[0m\u001b[0;34m\u001b[0m\u001b[0;34m\u001b[0m\u001b[0m\n\u001b[0;32m--> 895\u001b[0;31m                 \u001b[0;32mraise\u001b[0m \u001b[0mKeyboardInterrupt\u001b[0m\u001b[0;34m(\u001b[0m\u001b[0;34m\"Interrupted by user\"\u001b[0m\u001b[0;34m)\u001b[0m \u001b[0;32mfrom\u001b[0m \u001b[0;32mNone\u001b[0m\u001b[0;34m\u001b[0m\u001b[0;34m\u001b[0m\u001b[0m\n\u001b[0m\u001b[1;32m    896\u001b[0m             \u001b[0;32mexcept\u001b[0m \u001b[0mException\u001b[0m \u001b[0;32mas\u001b[0m \u001b[0me\u001b[0m\u001b[0;34m:\u001b[0m\u001b[0;34m\u001b[0m\u001b[0;34m\u001b[0m\u001b[0m\n\u001b[1;32m    897\u001b[0m                 \u001b[0mself\u001b[0m\u001b[0;34m.\u001b[0m\u001b[0mlog\u001b[0m\u001b[0;34m.\u001b[0m\u001b[0mwarning\u001b[0m\u001b[0;34m(\u001b[0m\u001b[0;34m\"Invalid Message:\"\u001b[0m\u001b[0;34m,\u001b[0m \u001b[0mexc_info\u001b[0m\u001b[0;34m=\u001b[0m\u001b[0;32mTrue\u001b[0m\u001b[0;34m)\u001b[0m\u001b[0;34m\u001b[0m\u001b[0;34m\u001b[0m\u001b[0m\n",
            "\u001b[0;31mKeyboardInterrupt\u001b[0m: Interrupted by user"
          ]
        }
      ],
      "source": [
        "btic_tac_toe()"
      ]
    },
    {
      "cell_type": "markdown",
      "metadata": {
        "id": "dJvLj8-mnXek"
      },
      "source": [
        "*Exercise 11:* (Advanced / Challenge) Develop a version of the game where one player is the computer. Note that you don't need to do an extensive seach for the best move. You can have the computer simply protect against loosing and otherwise try to win with straight or diagonal patterns."
      ]
    },
    {
      "cell_type": "code",
      "execution_count": null,
      "metadata": {
        "id": "6Y4pu15MnXek"
      },
      "outputs": [],
      "source": [
        "# Write you solution here"
      ]
    },
    {
      "cell_type": "code",
      "execution_count": null,
      "metadata": {
        "id": "PKskh-U9nXek"
      },
      "outputs": [],
      "source": [
        "# Test your solution here"
      ]
    }
  ],
  "metadata": {
    "colab": {
      "provenance": []
    },
    "kernelspec": {
      "display_name": "Python [conda env:base] *",
      "language": "python",
      "name": "conda-base-py"
    },
    "language_info": {
      "codemirror_mode": {
        "name": "ipython",
        "version": 3
      },
      "file_extension": ".py",
      "mimetype": "text/x-python",
      "name": "python",
      "nbconvert_exporter": "python",
      "pygments_lexer": "ipython3",
      "version": "3.12.7"
    }
  },
  "nbformat": 4,
  "nbformat_minor": 0
}