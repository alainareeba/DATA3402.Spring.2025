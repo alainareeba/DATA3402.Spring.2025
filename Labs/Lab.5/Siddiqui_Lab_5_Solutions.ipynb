{
  "cells": [
    {
      "cell_type": "markdown",
      "metadata": {
        "id": "mWe1gdw9FtZo"
      },
      "source": [
        "# Lab 5\n"
      ]
    },
    {
      "cell_type": "markdown",
      "metadata": {
        "id": "6EeyeVW6FtZp"
      },
      "source": [
        "Matrix Representation: In this lab you will be creating a simple linear algebra system. In memory, we will represent matrices as nested python lists as we have done in lecture. In the exercises below, you are required to explicitly test every feature you implement, demonstrating it works.\n",
        "\n",
        "1. Create a `matrix` class with the following properties:\n",
        "    * It can be initialized in 2 ways:\n",
        "        1. with arguments `n` and `m`, the size of the matrix. A newly instanciated matrix will contain all zeros.\n",
        "        2. with a list of lists of values. Note that since we are using lists of lists to implement matrices, it is possible that not all rows have the same number of columns. Test explicitly that the matrix is properly specified.\n",
        "    * Matrix instances `M` can be indexed with `M[i][j]` and `M[i,j]`.\n",
        "    * Matrix assignment works in 2 ways:\n",
        "        1. If `M_1` and `M_2` are `matrix` instances `M_1=M_2` sets the values of `M_1` to those of `M_2`, if they are the same size. Error otherwise.\n",
        "        2. In example above `M_2` can be a list of lists of correct size. (Dr. Farbin said not to do this part)\n"
      ]
    },
    {
      "cell_type": "code",
      "source": [
        "class Matrix:\n",
        "    def __init__(self, n=None, m=None, values=None): # we have to start off with none\n",
        "        if values is not None:\n",
        "            if not all(isinstance(row, list) for row in values):\n",
        "                raise ValueError(\"We need a list of lists for the function to continue.\")\n",
        "            if not all(len(row) == len(values[0]) for row in values):\n",
        "                raise ValueError(\"All the rows have to have the same number of columns.\")\n",
        "\n",
        "            self.data = values\n",
        "            self.n = len(values)\n",
        "            self.m = len(values[0])\n",
        "        elif n is not None and m is not None:\n",
        "            self.n, self.m = n, m\n",
        "            self.data = [[0] * m for _ in range(n)]\n",
        "        else:\n",
        "            raise ValueError(\"Please include the dimensions in the format (n,m)\")\n",
        "\n",
        "    def __getitem__(self, indices):\n",
        "        if isinstance(indices, tuple):\n",
        "            i, j = indices\n",
        "            return self.data[i][j]\n",
        "        return self.data[indices]\n",
        "\n",
        "    def __setitem__(self, indices, value):\n",
        "        if isinstance(indices, tuple):\n",
        "            i, j = indices\n",
        "            self.data[i][j] = value\n",
        "        else:\n",
        "            self.data[indices] = value\n",
        "\n",
        "    def __repr__(self):\n",
        "        return '\\n'.join(str(row) for row in self.data)\n"
      ],
      "metadata": {
        "id": "OGmrdLP3GifB"
      },
      "execution_count": null,
      "outputs": []
    },
    {
      "cell_type": "code",
      "source": [
        "# Testing the solution out\n",
        "\n",
        "\n",
        "m1 = Matrix(4,4)  # This one is just with zeroes\n",
        "print(m1)\n",
        "\n",
        "m2 = Matrix(values=[[1, 2, 3], [4, 5, 6], [7, 8, 9], [10,11,12]])  # If I enter the values, it should create my matrix (hopefully)\n",
        "print(m2)\n",
        "\n",
        "print(m2[1, 2])\n",
        "m2[1, 2] = 10\n",
        "print(m2[1])"
      ],
      "metadata": {
        "colab": {
          "base_uri": "https://localhost:8080/"
        },
        "id": "1MEMmFfBIP_p",
        "outputId": "86475460-cf46-4c61-b78d-2e2590b3fcbc"
      },
      "execution_count": null,
      "outputs": [
        {
          "output_type": "stream",
          "name": "stdout",
          "text": [
            "[0, 0, 0, 0]\n",
            "[0, 0, 0, 0]\n",
            "[0, 0, 0, 0]\n",
            "[0, 0, 0, 0]\n",
            "[1, 2, 3]\n",
            "[4, 5, 6]\n",
            "[7, 8, 9]\n",
            "[10, 11, 12]\n",
            "6\n",
            "[4, 5, 10]\n"
          ]
        }
      ]
    },
    {
      "cell_type": "markdown",
      "metadata": {
        "id": "YBEbVnP0FtZq"
      },
      "source": [
        "2. Add the following methods:\n",
        "    * `shape()`: returns a tuple `(n,m)` of the shape of the matrix.\n",
        "    * `transpose()`: returns a new matrix instance which is the transpose of the matrix.\n",
        "    * `row(n)` and `column(n)`: that return the nth row or column of the matrix M as a new appropriately shaped matrix object.\n",
        "    * `to_list()`: which returns the matrix as a list of lists.\n",
        "    *  `block(n_0,n_1,m_0,m_1)` that returns a smaller matrix located at the n_0 to n_1 columns and m_0 to m_1 rows.\n",
        "    * (Extra credit) Modify `__getitem__` implemented above to support slicing.\n",
        "        "
      ]
    },
    {
      "cell_type": "code",
      "source": [
        "class Matrix:\n",
        "    def __init__(self, n=None, m=None, values=None): # we have to start off with none\n",
        "        if values is not None:\n",
        "            if not all(isinstance(row, list) for row in values):\n",
        "                raise ValueError(\"We need a list of lists for the function to continue.\")\n",
        "            if not all(len(row) == len(values[0]) for row in values):\n",
        "                raise ValueError(\"All the rows have to have the same number of columns.\")\n",
        "\n",
        "            self.data = values\n",
        "            self.n = len(values)\n",
        "            self.m = len(values[0])\n",
        "        elif n is not None and m is not None:\n",
        "            self.n, self.m = n, m\n",
        "            self.data = [[0] * m for _ in range(n)]\n",
        "        else:\n",
        "            raise ValueError(\"Please include the dimensions in the format (n,m)\")\n",
        "\n",
        "    def __getitem__(self, indices):\n",
        "        if isinstance(indices, tuple):\n",
        "            i, j = indices\n",
        "            if isinstance(i, slice) or isinstance(j, slice):\n",
        "                return Matrix(values=[row[j] for row in self.data[i]])\n",
        "            return self.data[i][j]\n",
        "        return self.data[indices]\n",
        "\n",
        "    def __setitem__(self, indices, value):\n",
        "        if isinstance(indices, tuple):\n",
        "            i, j = indices\n",
        "            self.data[i][j] = value\n",
        "        else:\n",
        "            self.data[indices] = value\n",
        "\n",
        "    def shape(self):  # shape method\n",
        "        return self.n, self.m\n",
        "\n",
        "    def transpose(self): # transpose method\n",
        "        return Matrix(values=[[self.data[j][i] for j in range(self.n)] for i in range(self.m)])\n",
        "\n",
        "    def row(self, n): # row method\n",
        "        return Matrix(values=[self.data[n]])\n",
        "\n",
        "    def column(self, n): # column method\n",
        "        return Matrix(values=[[self.data[i][n]] for i in range(self.n)])\n",
        "\n",
        "    def to_list(self): # list method (basically just returning the data variable from the class)\n",
        "        return self.data\n",
        "\n",
        "    def block(self, n_0, n_1, m_0, m_1): # block method\n",
        "        return Matrix(values=[row[m_0:m_1] for row in self.data[n_0:n_1]])\n",
        "\n",
        "    def __repr__(self): # trying to splice\n",
        "        return '\\n'.join(str(row) for row in self.data)"
      ],
      "metadata": {
        "id": "9xikvh6zt-K4"
      },
      "execution_count": 2,
      "outputs": []
    },
    {
      "cell_type": "code",
      "source": [
        "# Testing the solution out\n",
        "m1 = Matrix(4, 4)\n",
        "print(m1)\n",
        "\n",
        "m2 = Matrix(values=[[1, 2, 3], [4, 5, 6], [7, 8, 9], [10,11,12]])\n",
        "print(m2)\n",
        "\n",
        "print(m2[1, 2])  # specifc number in the matrix to change\n",
        "m2[1, 2] = 10\n",
        "print(m2[1])     # row 1\n",
        "\n",
        "print(m2.shape())\n",
        "print(m2.transpose())\n",
        "print(m2.row(1))\n",
        "print(m2.column(2))\n",
        "print(m2.to_list())\n",
        "print(m2.block(0, 2, 0, 2))"
      ],
      "metadata": {
        "colab": {
          "base_uri": "https://localhost:8080/"
        },
        "id": "IBlXdzTZu9qV",
        "outputId": "d1fc58f0-df6d-47ad-a610-689519c9510b"
      },
      "execution_count": 3,
      "outputs": [
        {
          "output_type": "stream",
          "name": "stdout",
          "text": [
            "[0, 0, 0, 0]\n",
            "[0, 0, 0, 0]\n",
            "[0, 0, 0, 0]\n",
            "[0, 0, 0, 0]\n",
            "[1, 2, 3]\n",
            "[4, 5, 6]\n",
            "[7, 8, 9]\n",
            "[10, 11, 12]\n",
            "6\n",
            "[4, 5, 10]\n",
            "(4, 3)\n",
            "[1, 4, 7, 10]\n",
            "[2, 5, 8, 11]\n",
            "[3, 10, 9, 12]\n",
            "[4, 5, 10]\n",
            "[3]\n",
            "[10]\n",
            "[9]\n",
            "[12]\n",
            "[[1, 2, 3], [4, 5, 10], [7, 8, 9], [10, 11, 12]]\n",
            "[1, 2]\n",
            "[4, 5]\n"
          ]
        }
      ]
    },
    {
      "cell_type": "markdown",
      "metadata": {
        "id": "waIx_fOkFtZr"
      },
      "source": [
        "3. Write functions that create special matrices (note these are standalone functions, not member functions of your `matrix` class):\n",
        "    * `constant(n,m,c)`: returns a `n` by `m` matrix filled with floats of value `c`.\n",
        "    * `zeros(n,m)` and `ones(n,m)`: return `n` by `m` matrices filled with floats of value `0` and `1`, respectively.\n",
        "    * `eye(n)`: returns the n by n identity matrix."
      ]
    },
    {
      "cell_type": "code",
      "source": [
        "def constant(n, m, c): # constant function\n",
        "    return Matrix(n, m, values=[[float(c)] * m for _ in range(n)])\n",
        "\n",
        "def zeros(n, m): # zeros function\n",
        "    return constant(n, m, 5.0)\n",
        "\n",
        "def ones(n, m): # ones function\n",
        "    return constant(n, m, 1.0) # has to be one\n",
        "\n",
        "def eye(n): # eyes function\n",
        "    return Matrix(values=[[1.0 if i == j else 0.0 for j in range(n)] for i in range(n)])"
      ],
      "metadata": {
        "id": "KN39BOvKAgFx"
      },
      "execution_count": 12,
      "outputs": []
    },
    {
      "cell_type": "code",
      "source": [
        "# testing the solution out\n",
        "print(constant(4, 4,5)) # this one needs three arguments because I outlined three arguments\n",
        "print(\"\\n\")\n",
        "print(zeros(4, 4))\n",
        "print(\"\\n\")\n",
        "print(ones(4, 4))\n",
        "print(\"\\n\")\n",
        "print(eye(4))\n",
        "print(\"\\n\")\n",
        "\n"
      ],
      "metadata": {
        "colab": {
          "base_uri": "https://localhost:8080/"
        },
        "id": "LwnAVqo2A-cI",
        "outputId": "d876d9cf-b487-4989-d078-d17b81fd5744"
      },
      "execution_count": 14,
      "outputs": [
        {
          "output_type": "stream",
          "name": "stdout",
          "text": [
            "[5.0, 5.0, 5.0, 5.0]\n",
            "[5.0, 5.0, 5.0, 5.0]\n",
            "[5.0, 5.0, 5.0, 5.0]\n",
            "[5.0, 5.0, 5.0, 5.0]\n",
            "\n",
            "\n",
            "[5.0, 5.0, 5.0, 5.0]\n",
            "[5.0, 5.0, 5.0, 5.0]\n",
            "[5.0, 5.0, 5.0, 5.0]\n",
            "[5.0, 5.0, 5.0, 5.0]\n",
            "\n",
            "\n",
            "[1.0, 1.0, 1.0, 1.0]\n",
            "[1.0, 1.0, 1.0, 1.0]\n",
            "[1.0, 1.0, 1.0, 1.0]\n",
            "[1.0, 1.0, 1.0, 1.0]\n",
            "\n",
            "\n",
            "[1.0, 0.0, 0.0, 0.0]\n",
            "[0.0, 1.0, 0.0, 0.0]\n",
            "[0.0, 0.0, 1.0, 0.0]\n",
            "[0.0, 0.0, 0.0, 1.0]\n",
            "\n",
            "\n"
          ]
        }
      ]
    },
    {
      "cell_type": "markdown",
      "metadata": {
        "id": "Hurb4b47FtZr"
      },
      "source": [
        "4. Add the following member functions to your class. Make sure to appropriately test the dimensions of the matrices to make sure the operations are correct.\n",
        "    * `M.scalarmul(c)`: a matrix that is scalar product $cM$, where every element of $M$ is multiplied by $c$.\n",
        "    * `M.add(N)`: adds two matrices $M$ and $N$. Don’t forget to test that the sizes of the matrices are compatible for this and all other operations.\n",
        "    * `M.sub(N)`: subtracts two matrices $M$ and $N$.\n",
        "    * `M.mat_mult(N)`: returns a matrix that is the matrix product of two matrices $M$ and $N$.\n",
        "    * `M.element_mult(N)`: returns a matrix that is the element-wise product of two matrices $M$ and $N$.\n",
        "    * `M.equals(N)`: returns true/false if $M==N$."
      ]
    },
    {
      "cell_type": "code",
      "source": [
        "class Matrix:\n",
        "    def __init__(self, n=None, m=None, values=None): # we have to start off with none\n",
        "        if values is not None:\n",
        "            if not all(isinstance(row, list) for row in values):\n",
        "                raise ValueError(\"We need a list of lists for the function to continue.\")\n",
        "            if not all(len(row) == len(values[0]) for row in values):\n",
        "                raise ValueError(\"All the rows have to have the same number of columns.\")\n",
        "\n",
        "            self.data = values\n",
        "            self.n = len(values)\n",
        "            self.m = len(values[0])\n",
        "        elif n is not None and m is not None:\n",
        "            self.n, self.m = n, m\n",
        "            self.data = [[0] * m for _ in range(n)]\n",
        "        else:\n",
        "            raise ValueError(\"Please include the dimensions in the format (n,m)\")\n",
        "\n",
        "    def __getitem__(self, indices):\n",
        "        if isinstance(indices, tuple):\n",
        "            i, j = indices\n",
        "            if isinstance(i, slice) or isinstance(j, slice):\n",
        "                return Matrix(values=[row[j] for row in self.data[i]])\n",
        "            return self.data[i][j]\n",
        "        return self.data[indices]\n",
        "\n",
        "    def __setitem__(self, indices, value):\n",
        "        if isinstance(indices, tuple):\n",
        "            i, j = indices\n",
        "            self.data[i][j] = value\n",
        "        else:\n",
        "            self.data[indices] = value\n",
        "\n",
        "    def shape(self):  # shape method\n",
        "        return self.n, self.m\n",
        "\n",
        "    def transpose(self): # transpose method\n",
        "        return Matrix(values=[[self.data[j][i] for j in range(self.n)] for i in range(self.m)])\n",
        "\n",
        "    def row(self, n): # row method\n",
        "        return Matrix(values=[self.data[n]])\n",
        "\n",
        "    def column(self, n): # column method\n",
        "        return Matrix(values=[[self.data[i][n]] for i in range(self.n)])\n",
        "\n",
        "    def to_list(self): # list method (basically just returning the data variable from the class)\n",
        "        return self.data\n",
        "\n",
        "    def block(self, n_0, n_1, m_0, m_1): # block method\n",
        "        return Matrix(values=[row[m_0:m_1] for row in self.data[n_0:n_1]])\n",
        "\n",
        "    def __repr__(self): # trying to splice\n",
        "        return '\\n'.join(str(row) for row in self.data)\n",
        "\n",
        "    def scalarmul(self, c): # scalar product function (multiplication function for each number)\n",
        "        return Matrix(values=[[c * self.data[i][j] for j in range(self.m)] for i in range(self.n)])\n",
        "\n",
        "    def add(self, N): # add function\n",
        "        if self.shape() != N.shape():\n",
        "            raise ValueError(\"Matrix dimensions don't match for addition.\")\n",
        "        return Matrix(values=[[self.data[i][j] + N[i, j] for j in range(self.m)] for i in range(self.n)])\n",
        "\n",
        "    def sub(self, N): # subtraction function\n",
        "        if self.shape() != N.shape(): # ! means doesnt equal\n",
        "            raise ValueError(\"Matrix dimensions don't match for subtraction.\")\n",
        "        return Matrix(values=[[self.data[i][j] - N[i, j] for j in range(self.m)] for i in range(self.n)])\n",
        "\n",
        "    def mat_mult(self, N): # matrix multiplication function\n",
        "        if self.m != N.n:\n",
        "            raise ValueError(\"Matrix dimensions aren't right to do multiplication\")\n",
        "        return Matrix(values=[[sum(self.data[i][k] * N[k, j] for k in range(self.m)) for j in range(N.m)] for i in range(self.n)])\n",
        "\n",
        "    def element_mult(self, N): # element multiplication\n",
        "        if self.shape() != N.shape():\n",
        "            raise ValueError(\"Matrix dimensions aren't right to do multiplication\")\n",
        "        return Matrix(values=[[self.data[i][j] * N[i, j] for j in range(self.m)] for i in range(self.n)])\n",
        "\n",
        "    def equals(self, N): # equal function\n",
        "        return self.shape() == N.shape() and all(self.data[i][j] == N[i, j] for i in range(self.n) for j in range(self.m))\n",
        "\n",
        "\n"
      ],
      "metadata": {
        "id": "AFBDTx7JBlgK"
      },
      "execution_count": 17,
      "outputs": []
    },
    {
      "cell_type": "code",
      "source": [
        "# Testing out the solution\n",
        "m3 = Matrix(values=[[1, 2], [3, 4]])\n",
        "m4 = Matrix(values=[[5, 6], [7, 8]])\n",
        "print(m3.scalarmul(2))\n",
        "print(m3.add(m4))\n",
        "print(m3.sub(m4))\n",
        "print(m3.mat_mult(m4))\n",
        "print(m3.element_mult(m4))\n",
        "print(m3.equals(m4))"
      ],
      "metadata": {
        "colab": {
          "base_uri": "https://localhost:8080/"
        },
        "id": "-18K1_s6EDDl",
        "outputId": "9b843570-bd74-4a1e-92cc-89397f913c2b"
      },
      "execution_count": 16,
      "outputs": [
        {
          "output_type": "stream",
          "name": "stdout",
          "text": [
            "[2, 4]\n",
            "[6, 8]\n",
            "[6, 8]\n",
            "[10, 12]\n",
            "[-4, -4]\n",
            "[-4, -4]\n",
            "[19, 22]\n",
            "[43, 50]\n",
            "[5, 12]\n",
            "[21, 32]\n",
            "False\n"
          ]
        }
      ]
    },
    {
      "cell_type": "markdown",
      "metadata": {
        "id": "KrYVpxlEFtZr"
      },
      "source": [
        "5. Overload python operators to appropriately use your functions in 4 and allow expressions like:\n",
        "    * 2*M\n",
        "    * M*2\n",
        "    * M+N\n",
        "    * M-N\n",
        "    * M*N\n",
        "    * M==N\n",
        "    * M=N\n"
      ]
    },
    {
      "cell_type": "code",
      "source": [
        " class Matrix:\n",
        "    def __init__(self, n=None, m=None, values=None): # we have to start off with none\n",
        "        if values is not None:\n",
        "            if not all(isinstance(row, list) for row in values):\n",
        "                raise ValueError(\"We need a list of lists for the function to continue.\")\n",
        "            if not all(len(row) == len(values[0]) for row in values):\n",
        "                raise ValueError(\"All the rows have to have the same number of columns.\")\n",
        "\n",
        "            self.data = values\n",
        "            self.n = len(values)\n",
        "            self.m = len(values[0])\n",
        "        elif n is not None and m is not None:\n",
        "            self.n, self.m = n, m\n",
        "            self.data = [[0] * m for _ in range(n)]\n",
        "        else:\n",
        "            raise ValueError(\"Please include the dimensions in the format (n,m)\")\n",
        "\n",
        "    def __getitem__(self, indices):\n",
        "        if isinstance(indices, tuple):\n",
        "            i, j = indices\n",
        "            if isinstance(i, slice) or isinstance(j, slice):\n",
        "                return Matrix(values=[row[j] for row in self.data[i]])\n",
        "            return self.data[i][j]\n",
        "        return self.data[indices]\n",
        "\n",
        "    def __setitem__(self, indices, value):\n",
        "        if isinstance(indices, tuple):\n",
        "            i, j = indices\n",
        "            self.data[i][j] = value\n",
        "        else:\n",
        "            self.data[indices] = value\n",
        "\n",
        "    def shape(self):  # shape method\n",
        "        return self.n, self.m\n",
        "\n",
        "    def transpose(self): # transpose method\n",
        "        return Matrix(values=[[self.data[j][i] for j in range(self.n)] for i in range(self.m)])\n",
        "\n",
        "    def row(self, n): # row method\n",
        "        return Matrix(values=[self.data[n]])\n",
        "\n",
        "    def column(self, n): # column method\n",
        "        return Matrix(values=[[self.data[i][n]] for i in range(self.n)])\n",
        "\n",
        "    def to_list(self): # list method (basically just returning the data variable from the class)\n",
        "        return self.data\n",
        "\n",
        "    def block(self, n_0, n_1, m_0, m_1): # block method\n",
        "        return Matrix(values=[row[m_0:m_1] for row in self.data[n_0:n_1]])\n",
        "\n",
        "    def __repr__(self): # trying to splice\n",
        "        return '\\n'.join(str(row) for row in self.data)\n",
        "\n",
        "    def scalarmul(self, c): # scalar product function (multiplication function for each number)\n",
        "        return Matrix(values=[[c * self.data[i][j] for j in range(self.m)] for i in range(self.n)])\n",
        "\n",
        "    def add(self, N): # add function\n",
        "        if self.shape() != N.shape():\n",
        "            raise ValueError(\"Matrix dimensions don't match for addition.\")\n",
        "        return Matrix(values=[[self.data[i][j] + N[i, j] for j in range(self.m)] for i in range(self.n)])\n",
        "\n",
        "    def sub(self, N): # subtraction function\n",
        "        if self.shape() != N.shape(): # ! means doesnt equal\n",
        "            raise ValueError(\"Matrix dimensions don't match for subtraction.\")\n",
        "        return Matrix(values=[[self.data[i][j] - N[i, j] for j in range(self.m)] for i in range(self.n)])\n",
        "\n",
        "    def mat_mult(self, N): # matrix multiplication function\n",
        "        if self.m != N.n:\n",
        "            raise ValueError(\"Matrix dimensions aren't right to do multiplication\")\n",
        "        return Matrix(values=[[sum(self.data[i][k] * N[k, j] for k in range(self.m)) for j in range(N.m)] for i in range(self.n)])\n",
        "\n",
        "    def element_mult(self, N): # element multiplication\n",
        "        if self.shape() != N.shape():\n",
        "            raise ValueError(\"Matrix dimensions aren't right to do multiplication\")\n",
        "        return Matrix(values=[[self.data[i][j] * N[i, j] for j in range(self.m)] for i in range(self.n)])\n",
        "\n",
        "    def equals(self, N): # equal function\n",
        "        return self.shape() == N.shape() and all(self.data[i][j] == N[i, j] for i in range(self.n) for j in range(self.m))\n",
        "\n",
        "    def __mul__(self, other): # left (order matters when matrices are multiplied)\n",
        "        if isinstance(other, (int, float)):\n",
        "            return self.scalarmul(other)\n",
        "        elif isinstance(other, Matrix):\n",
        "            return self.mat_mult(other)\n",
        "        else:\n",
        "            raise ValueError(\"can't do multiplication.\")\n",
        "\n",
        "    def __rmul__(self, other): # right\n",
        "        return self.__mul__(other)\n",
        "\n",
        "    def __add__(self, other):\n",
        "        return self.add(other)\n",
        "\n",
        "    def __sub__(self, other):\n",
        "        return self.sub(other)\n",
        "\n",
        "    def __eq__(self, other):\n",
        "        return self.equals(other)\n"
      ],
      "metadata": {
        "id": "QtRVGp-rEqKg"
      },
      "execution_count": 31,
      "outputs": []
    },
    {
      "cell_type": "code",
      "source": [
        "# Testing out solution\n",
        "M1 = Matrix(values=[[1, 2], [3, 4]])\n",
        "M2 = Matrix(values=[[5, 6], [7, 8]])\n",
        "\n",
        "print(2 * M1)\n",
        "print(M1 * 2)\n",
        "\n",
        "print(M1 + M2)\n",
        "print(M1 - M2)\n",
        "print(M1 * M2)\n",
        "\n",
        "print(M1 == M2)"
      ],
      "metadata": {
        "colab": {
          "base_uri": "https://localhost:8080/"
        },
        "id": "UKn1r2TLJAvF",
        "outputId": "5c8c92a9-4874-4f16-e4f1-074e2079d1d8"
      },
      "execution_count": 33,
      "outputs": [
        {
          "output_type": "stream",
          "name": "stdout",
          "text": [
            "[2, 4]\n",
            "[6, 8]\n",
            "[2, 4]\n",
            "[6, 8]\n",
            "[6, 8]\n",
            "[10, 12]\n",
            "[-4, -4]\n",
            "[-4, -4]\n",
            "[19, 22]\n",
            "[43, 50]\n",
            "False\n"
          ]
        }
      ]
    },
    {
      "cell_type": "markdown",
      "metadata": {
        "id": "reNzT-ONFtZs"
      },
      "source": [
        "6. Demonstrate the basic properties of matrices with your matrix class by creating two 2 by 2 example matrices using your Matrix class and illustrating the following:\n",
        "\n",
        "$$\n",
        "(AB)C=A(BC)\n",
        "$$\n",
        "$$\n",
        "A(B+C)=AB+AC\n",
        "$$\n",
        "$$\n",
        "AB\\neq BA\n",
        "$$\n",
        "$$\n",
        "AI=A\n",
        "$$"
      ]
    },
    {
      "cell_type": "code",
      "execution_count": 35,
      "metadata": {
        "id": "TRApSaz7FtZs",
        "colab": {
          "base_uri": "https://localhost:8080/"
        },
        "outputId": "6bb4d3eb-9ca0-40af-bd1f-5cba35174cf2"
      },
      "outputs": [
        {
          "output_type": "stream",
          "name": "stdout",
          "text": [
            "(AB)C = [44, 85]\n",
            "[100, 193]\n",
            "A(BC) = [44, 85]\n",
            "[100, 193]\n",
            "Associativity holds: True\n",
            "A(B + C) = [23, 29]\n",
            "[51, 65]\n",
            "AB + AC = [23, 29]\n",
            "[51, 65]\n",
            "Distributivity holds: True\n",
            "AB = [19, 22]\n",
            "[43, 50]\n",
            "BA = [23, 34]\n",
            "[31, 46]\n",
            "AB ≠ BA: True\n",
            "AI = [1, 2]\n",
            "[3, 4]\n",
            "AI = A: True\n"
          ]
        }
      ],
      "source": [
        "A = Matrix(values=[[1, 2], [3, 4]])\n",
        "B = Matrix(values=[[5, 6], [7, 8]])\n",
        "C = Matrix(values=[[0, 1], [2, 3]])\n",
        "I = Matrix(values=[[1, 0], [0, 1]])\n",
        "\n",
        "#(AB)C = A(BC)\n",
        "left = (A * B) * C\n",
        "right = A * (B * C)\n",
        "print(\"(AB)C =\", left)\n",
        "print(\"A(BC) =\", right)\n",
        "print(\"Associativity holds:\", left == right)\n",
        "\n",
        "# A(B + C) = AB + AC\n",
        "dist_left = A * (B + C)\n",
        "dist_right = (A * B) + (A * C)\n",
        "print(\"A(B + C) =\", dist_left)\n",
        "print(\"AB + AC =\", dist_right)\n",
        "print(\"Distributivity holds:\", dist_left == dist_right)\n",
        "\n",
        "# AB doesnt equal BA\n",
        "comm_left = A * B\n",
        "comm_right = B * A\n",
        "print(\"AB =\", comm_left)\n",
        "print(\"BA =\", comm_right)\n",
        "print(\"AB ≠ BA:\", comm_left != comm_right)\n",
        "\n",
        "# matrix property\n",
        "identity_test = A * I\n",
        "print(\"AI =\", identity_test)\n",
        "print(\"AI = A:\", identity_test == A)"
      ]
    },
    {
      "cell_type": "markdown",
      "source": [
        "## Quiz 2 Answer"
      ],
      "metadata": {
        "id": "7_lpgHX0KuVh"
      }
    },
    {
      "cell_type": "markdown",
      "source": [
        "Write a function make_deck that returns a list of all of the cards in a standard card deck. The return should be a list of tuples of pairs of suit and value. For example the 10 of Clubs would be ('Clubs', 10) and Queen of Hearts would be ('Hearts', 'Queen'). Recall that a deck has 52 cards, divided into 4 suits (Clubs, Diamonds, Hearts, and Spades), and that each suit has 13 cards: 2 to 10, Jack, Queen, King, and Ace. Summit your solution with Lab 5."
      ],
      "metadata": {
        "id": "qvYzUjPCK75P"
      }
    },
    {
      "cell_type": "code",
      "source": [
        "def make_deck():\n",
        "    shape = ['Clubs', 'Diamonds', 'Hearts', 'Spades']\n",
        "    values = [2, 3, 4, 5, 6, 7, 8, 9, 10, 'Jack', 'Queen', 'King', 'Ace']\n",
        "\n",
        "    deck = [(shape, value) for shape in shape for value in values]\n",
        "    return deck"
      ],
      "metadata": {
        "id": "YiXXu7koKxlG"
      },
      "execution_count": 47,
      "outputs": []
    },
    {
      "cell_type": "code",
      "source": [
        "make_deck()"
      ],
      "metadata": {
        "colab": {
          "base_uri": "https://localhost:8080/"
        },
        "id": "vez9b87PMCMH",
        "outputId": "e291b94a-682e-4910-a525-d70cc078673d"
      },
      "execution_count": 48,
      "outputs": [
        {
          "output_type": "execute_result",
          "data": {
            "text/plain": [
              "[('Clubs', 2),\n",
              " ('Clubs', 3),\n",
              " ('Clubs', 4),\n",
              " ('Clubs', 5),\n",
              " ('Clubs', 6),\n",
              " ('Clubs', 7),\n",
              " ('Clubs', 8),\n",
              " ('Clubs', 9),\n",
              " ('Clubs', 10),\n",
              " ('Clubs', 'Jack'),\n",
              " ('Clubs', 'Queen'),\n",
              " ('Clubs', 'King'),\n",
              " ('Clubs', 'Ace'),\n",
              " ('Diamonds', 2),\n",
              " ('Diamonds', 3),\n",
              " ('Diamonds', 4),\n",
              " ('Diamonds', 5),\n",
              " ('Diamonds', 6),\n",
              " ('Diamonds', 7),\n",
              " ('Diamonds', 8),\n",
              " ('Diamonds', 9),\n",
              " ('Diamonds', 10),\n",
              " ('Diamonds', 'Jack'),\n",
              " ('Diamonds', 'Queen'),\n",
              " ('Diamonds', 'King'),\n",
              " ('Diamonds', 'Ace'),\n",
              " ('Hearts', 2),\n",
              " ('Hearts', 3),\n",
              " ('Hearts', 4),\n",
              " ('Hearts', 5),\n",
              " ('Hearts', 6),\n",
              " ('Hearts', 7),\n",
              " ('Hearts', 8),\n",
              " ('Hearts', 9),\n",
              " ('Hearts', 10),\n",
              " ('Hearts', 'Jack'),\n",
              " ('Hearts', 'Queen'),\n",
              " ('Hearts', 'King'),\n",
              " ('Hearts', 'Ace'),\n",
              " ('Spades', 2),\n",
              " ('Spades', 3),\n",
              " ('Spades', 4),\n",
              " ('Spades', 5),\n",
              " ('Spades', 6),\n",
              " ('Spades', 7),\n",
              " ('Spades', 8),\n",
              " ('Spades', 9),\n",
              " ('Spades', 10),\n",
              " ('Spades', 'Jack'),\n",
              " ('Spades', 'Queen'),\n",
              " ('Spades', 'King'),\n",
              " ('Spades', 'Ace')]"
            ]
          },
          "metadata": {},
          "execution_count": 48
        }
      ]
    },
    {
      "cell_type": "code",
      "source": [
        "\n",
        "print(len(make_deck()))"
      ],
      "metadata": {
        "colab": {
          "base_uri": "https://localhost:8080/"
        },
        "id": "fECre64XLcTe",
        "outputId": "b2632345-c041-4a4c-96fd-d464480fd2bc"
      },
      "execution_count": 42,
      "outputs": [
        {
          "output_type": "stream",
          "name": "stdout",
          "text": [
            "52\n"
          ]
        }
      ]
    }
  ],
  "metadata": {
    "kernelspec": {
      "display_name": "Python [conda env:base] *",
      "language": "python",
      "name": "conda-base-py"
    },
    "language_info": {
      "codemirror_mode": {
        "name": "ipython",
        "version": 3
      },
      "file_extension": ".py",
      "mimetype": "text/x-python",
      "name": "python",
      "nbconvert_exporter": "python",
      "pygments_lexer": "ipython3",
      "version": "3.12.7"
    },
    "colab": {
      "provenance": []
    }
  },
  "nbformat": 4,
  "nbformat_minor": 0
}